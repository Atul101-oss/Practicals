{
 "cells": [
  {
   "cell_type": "code",
   "execution_count": 11,
   "metadata": {},
   "outputs": [
    {
     "ename": "ImportError",
     "evalue": "lxml not found, please install or use the etree parser.",
     "output_type": "error",
     "traceback": [
      "\u001b[0;31m---------------------------------------------------------------------------\u001b[0m",
      "\u001b[0;31mImportError\u001b[0m                               Traceback (most recent call last)",
      "\u001b[1;32m/home/arya/GitHub/Practicals/DAV_Project/Project_Data.ipynb Cell 1\u001b[0m line \u001b[0;36m5\n\u001b[1;32m      <a href='vscode-notebook-cell:/home/arya/GitHub/Practicals/DAV_Project/Project_Data.ipynb#W0sZmlsZQ%3D%3D?line=1'>2</a>\u001b[0m \u001b[39mimport\u001b[39;00m \u001b[39mpandas\u001b[39;00m \u001b[39mas\u001b[39;00m \u001b[39mpd\u001b[39;00m\n\u001b[1;32m      <a href='vscode-notebook-cell:/home/arya/GitHub/Practicals/DAV_Project/Project_Data.ipynb#W0sZmlsZQ%3D%3D?line=2'>3</a>\u001b[0m \u001b[39mimport\u001b[39;00m \u001b[39mmatplotlib\u001b[39;00m\u001b[39m.\u001b[39;00m\u001b[39mpyplot\u001b[39;00m \u001b[39mas\u001b[39;00m \u001b[39mplt\u001b[39;00m\n\u001b[0;32m----> <a href='vscode-notebook-cell:/home/arya/GitHub/Practicals/DAV_Project/Project_Data.ipynb#W0sZmlsZQ%3D%3D?line=4'>5</a>\u001b[0m df \u001b[39m=\u001b[39m pd\u001b[39m.\u001b[39;49mread_xml(\u001b[39m\"\u001b[39;49m\u001b[39mhttps://api.data.gov.in/resource/563cf530-fa3c-4a56-807f-b6783f2de10f?api-key=579b464db66ec23bdd000001e544f844e579b464db66ec23bdd000001e544f844ea4a4528698a8a658aa93d87a4a4528698a8a658aa93d87&format=csv\u001b[39;49m\u001b[39m\"\u001b[39;49m)\n\u001b[1;32m      <a href='vscode-notebook-cell:/home/arya/GitHub/Practicals/DAV_Project/Project_Data.ipynb#W0sZmlsZQ%3D%3D?line=5'>6</a>\u001b[0m df\n",
      "File \u001b[0;32m~/GitHub/Practicals/.venv/lib/python3.10/site-packages/pandas/io/xml.py:1132\u001b[0m, in \u001b[0;36mread_xml\u001b[0;34m(path_or_buffer, xpath, namespaces, elems_only, attrs_only, names, dtype, converters, parse_dates, encoding, parser, stylesheet, iterparse, compression, storage_options, dtype_backend)\u001b[0m\n\u001b[1;32m    888\u001b[0m \u001b[39m\u001b[39m\u001b[39mr\u001b[39m\u001b[39m\"\"\"\u001b[39;00m\n\u001b[1;32m    889\u001b[0m \u001b[39mRead XML document into a :class:`~pandas.DataFrame` object.\u001b[39;00m\n\u001b[1;32m    890\u001b[0m \n\u001b[0;32m   (...)\u001b[0m\n\u001b[1;32m   1128\u001b[0m \u001b[39m2  triangle      180    3.0\u001b[39;00m\n\u001b[1;32m   1129\u001b[0m \u001b[39m\"\"\"\u001b[39;00m\n\u001b[1;32m   1130\u001b[0m check_dtype_backend(dtype_backend)\n\u001b[0;32m-> 1132\u001b[0m \u001b[39mreturn\u001b[39;00m _parse(\n\u001b[1;32m   1133\u001b[0m     path_or_buffer\u001b[39m=\u001b[39;49mpath_or_buffer,\n\u001b[1;32m   1134\u001b[0m     xpath\u001b[39m=\u001b[39;49mxpath,\n\u001b[1;32m   1135\u001b[0m     namespaces\u001b[39m=\u001b[39;49mnamespaces,\n\u001b[1;32m   1136\u001b[0m     elems_only\u001b[39m=\u001b[39;49melems_only,\n\u001b[1;32m   1137\u001b[0m     attrs_only\u001b[39m=\u001b[39;49mattrs_only,\n\u001b[1;32m   1138\u001b[0m     names\u001b[39m=\u001b[39;49mnames,\n\u001b[1;32m   1139\u001b[0m     dtype\u001b[39m=\u001b[39;49mdtype,\n\u001b[1;32m   1140\u001b[0m     converters\u001b[39m=\u001b[39;49mconverters,\n\u001b[1;32m   1141\u001b[0m     parse_dates\u001b[39m=\u001b[39;49mparse_dates,\n\u001b[1;32m   1142\u001b[0m     encoding\u001b[39m=\u001b[39;49mencoding,\n\u001b[1;32m   1143\u001b[0m     parser\u001b[39m=\u001b[39;49mparser,\n\u001b[1;32m   1144\u001b[0m     stylesheet\u001b[39m=\u001b[39;49mstylesheet,\n\u001b[1;32m   1145\u001b[0m     iterparse\u001b[39m=\u001b[39;49miterparse,\n\u001b[1;32m   1146\u001b[0m     compression\u001b[39m=\u001b[39;49mcompression,\n\u001b[1;32m   1147\u001b[0m     storage_options\u001b[39m=\u001b[39;49mstorage_options,\n\u001b[1;32m   1148\u001b[0m     dtype_backend\u001b[39m=\u001b[39;49mdtype_backend,\n\u001b[1;32m   1149\u001b[0m )\n",
      "File \u001b[0;32m~/GitHub/Practicals/.venv/lib/python3.10/site-packages/pandas/io/xml.py:830\u001b[0m, in \u001b[0;36m_parse\u001b[0;34m(path_or_buffer, xpath, namespaces, elems_only, attrs_only, names, dtype, converters, parse_dates, encoding, parser, stylesheet, iterparse, compression, storage_options, dtype_backend, **kwargs)\u001b[0m\n\u001b[1;32m    813\u001b[0m         p \u001b[39m=\u001b[39m _LxmlFrameParser(\n\u001b[1;32m    814\u001b[0m             path_or_buffer,\n\u001b[1;32m    815\u001b[0m             xpath,\n\u001b[0;32m   (...)\u001b[0m\n\u001b[1;32m    827\u001b[0m             storage_options,\n\u001b[1;32m    828\u001b[0m         )\n\u001b[1;32m    829\u001b[0m     \u001b[39melse\u001b[39;00m:\n\u001b[0;32m--> 830\u001b[0m         \u001b[39mraise\u001b[39;00m \u001b[39mImportError\u001b[39;00m(\u001b[39m\"\u001b[39m\u001b[39mlxml not found, please install or use the etree parser.\u001b[39m\u001b[39m\"\u001b[39m)\n\u001b[1;32m    832\u001b[0m \u001b[39melif\u001b[39;00m parser \u001b[39m==\u001b[39m \u001b[39m\"\u001b[39m\u001b[39metree\u001b[39m\u001b[39m\"\u001b[39m:\n\u001b[1;32m    833\u001b[0m     p \u001b[39m=\u001b[39m _EtreeFrameParser(\n\u001b[1;32m    834\u001b[0m         path_or_buffer,\n\u001b[1;32m    835\u001b[0m         xpath,\n\u001b[0;32m   (...)\u001b[0m\n\u001b[1;32m    847\u001b[0m         storage_options,\n\u001b[1;32m    848\u001b[0m     )\n",
      "\u001b[0;31mImportError\u001b[0m: lxml not found, please install or use the etree parser."
     ]
    }
   ],
   "source": [
    "import numpy as np\n",
    "import pandas as pd\n",
    "import matplotlib.pyplot as plt\n",
    "\n",
    "df = pd.read_xml(\"https://api.data.gov.in/resource/563cf530-fa3c-4a56-807f-b6783f2de10f?api-key=579b464db66ec23bdd000001e544f844e579b464db66ec23bdd000001e544f844ea4a4528698a8a658aa93d87a4a4528698a8a658aa93d87&format=csv\")\n",
    "df"
   ]
  }
 ],
 "metadata": {
  "kernelspec": {
   "display_name": ".venv",
   "language": "python",
   "name": "python3"
  },
  "language_info": {
   "codemirror_mode": {
    "name": "ipython",
    "version": 3
   },
   "file_extension": ".py",
   "mimetype": "text/x-python",
   "name": "python",
   "nbconvert_exporter": "python",
   "pygments_lexer": "ipython3",
   "version": "3.10.12"
  }
 },
 "nbformat": 4,
 "nbformat_minor": 2
}
