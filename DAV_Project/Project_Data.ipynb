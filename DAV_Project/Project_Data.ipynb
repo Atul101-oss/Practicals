{
 "cells": [
  {
   "cell_type": "code",
   "execution_count": 4,
   "metadata": {},
   "outputs": [],
   "source": [
    "import numpy as np\n",
    "import pandas as pd\n",
    "import matplotlib.pyplot as plt\n"
   ]
  },
  {
   "cell_type": "code",
   "execution_count": 5,
   "metadata": {},
   "outputs": [],
   "source": [
    "def get_data(data_id):\n",
    "    return pd.read_csv(\"https://api.data.gov.in\"+data_id+\"?api-key=579b464db66ec23bdd000001e544f844ea4a4528698a8a658aa93d87&format=csv\")\n",
    "\n",
    "\n",
    "sectorWiseGDP = get_data(\"/resource/07d49df4-233f-4898-92db-e6855d4dd94c\")\n",
    "\n",
    "GDP = get_data(\"/resource/ab40c054-5031-4376-b52e-9813e776f65e\")\n",
    "\n",
    "NDP = get_data(\"/resource/bd372f75-5759-4743-bfbc-0d95da8323fc\")\n"
   ]
  },
  {
   "cell_type": "code",
   "execution_count": 8,
   "metadata": {},
   "outputs": [],
   "source": [
    "# Data Processing & Cleaning\n",
    "pd.DataFrame(NDP).to_csv(\"NDP.csv\")\n"
   ]
  }
 ],
 "metadata": {
  "kernelspec": {
   "display_name": ".venv",
   "language": "python",
   "name": "python3"
  },
  "language_info": {
   "codemirror_mode": {
    "name": "ipython",
    "version": 3
   },
   "file_extension": ".py",
   "mimetype": "text/x-python",
   "name": "python",
   "nbconvert_exporter": "python",
   "pygments_lexer": "ipython3",
   "version": "3.10.12"
  }
 },
 "nbformat": 4,
 "nbformat_minor": 2
}
