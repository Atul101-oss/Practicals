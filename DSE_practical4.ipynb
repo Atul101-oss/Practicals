{
  "cells": [
    {
      "cell_type": "markdown",
      "metadata": {
        "id": "view-in-github",
        "colab_type": "text"
      },
      "source": [
        "<a href=\"https://colab.research.google.com/github/Atul101-oss/Aryabhatta/blob/main/DSE_practical4.ipynb\" target=\"_parent\"><img src=\"https://colab.research.google.com/assets/colab-badge.svg\" alt=\"Open In Colab\"/></a>"
      ]
    },
    {
      "cell_type": "code",
      "execution_count": null,
      "metadata": {
        "id": "8dP6Sa1zoku_",
        "outputId": "5d4a98b7-f315-480e-8b74-c1ddf53398e2"
      },
      "outputs": [
        {
          "name": "stdout",
          "output_type": "stream",
          "text": [
            "                          Atul_Arya\n",
            "                          CSC/22/11\n",
            " ------------------------------------------------------------ \n",
            "Problem!\n",
            "Consider two excel files having attendance of  two workshops, each of duration 5 days.\n",
            "Each file has three fields ‘Name’, ‘Date, duration (in minutes) where names may be repetitvewithin a file.\n",
            "Note that duration may take one of three values (30, 40, 50) only.\n",
            "Import the data into two data frames and do the following:\n",
            "\n"
          ]
        }
      ],
      "source": [
        "import pandas as pd\n",
        "import numpy as np\n",
        "print(\" \"*25,\"Atul_Arya\\n\",\" \"*24,\"CSC/22/11\\n\",\"-\"*60,\n",
        "'''\n",
        "Problem!\n",
        "Consider two excel files having attendance of  two workshops, each of duration 5 days.\n",
        "Each file has three fields ‘Name’, ‘Date, duration (in minutes) where names may be repetitvewithin a file.\n",
        "Note that duration may take one of three values (30, 40, 50) only.\n",
        "Import the data into two data frames and do the following:\n",
        "''')"
      ]
    },
    {
      "cell_type": "code",
      "execution_count": null,
      "metadata": {
        "id": "meF1AdO4okvD",
        "outputId": "4e65e875-8f7c-4679-aab7-42583577b47a"
      },
      "outputs": [
        {
          "name": "stdout",
          "output_type": "stream",
          "text": [
            "a.)  Perform merging of the two data frames to find the names of students who had attended both workshops.\n",
            "students who attended both workshops :\n",
            "0      Atul\n",
            "1    Shivam\n",
            "Name: Name, dtype: object\n"
          ]
        }
      ],
      "source": [
        "print(\"a.)  Perform merging of the two data frames to find the names of students who had attended both workshops.\")\n",
        "\n",
        "xls = pd.ExcelFile('attendence_sheet.xlsx')\n",
        "df1 = pd.read_excel(xls,'Sheet1')\n",
        "df2 = pd.read_excel(xls,'Sheet2')\n",
        "\n",
        "merged_df = pd.merge(df1,df2, on='Name')\n",
        "print(f\"students who attended both workshops :\\n{merged_df['Name']}\")"
      ]
    },
    {
      "cell_type": "code",
      "execution_count": null,
      "metadata": {
        "id": "ipsmvIviokvE",
        "outputId": "e30cba92-4b98-46e0-cdab-4a2806bb35f2"
      },
      "outputs": [
        {
          "name": "stdout",
          "output_type": "stream",
          "text": [
            "b.)  Find names of all students who have attended a single workshop only.\n",
            "Students those attend only single workshop :\n",
            "0          Neha\n",
            "1       Tanishk\n",
            "2        Sanjay\n",
            "3       Shivani\n",
            "4     Shivanshi\n",
            "5       Piyushi\n",
            "6     Vanshika \n",
            "7         Anash\n",
            "8      shivansh\n",
            "9       shivani\n",
            "10        Karan\n",
            "11       Satvik\n",
            "12        Rakhi\n",
            "13        Rohit\n",
            "Name: Name, dtype: object\n"
          ]
        }
      ],
      "source": [
        "print(\"b.)  Find names of all students who have attended a single workshop only.\")\n",
        "\n",
        "both_df = pd.concat([df1['Name'],df2['Name']],ignore_index=True)\n",
        "both_df.drop_duplicates(keep=False,inplace=True,ignore_index=True)\n",
        "print(f\"Students those attend only single workshop :\\n{both_df}\")\n"
      ]
    },
    {
      "cell_type": "code",
      "execution_count": null,
      "metadata": {
        "id": "MmSg-nTEokvE",
        "outputId": "626bf5c6-caa2-4599-ee59-1b428a75f50f"
      },
      "outputs": [
        {
          "name": "stdout",
          "output_type": "stream",
          "text": [
            "c.)  Merge two data frames row-wise and find the total number of records in the data frame.\n",
            "Total no. of records after merging : 18\n"
          ]
        }
      ],
      "source": [
        "print(\"c.)  Merge two data frames row-wise and find the total number of records in the data frame.\")\n",
        "\n",
        "merge_R = pd.concat([df1,df2],ignore_index=True)\n",
        "print(f\"Total no. of records after merging : {len(merge_R)}\")"
      ]
    },
    {
      "cell_type": "code",
      "execution_count": null,
      "metadata": {
        "id": "hC9SsJTKokvF",
        "outputId": "313d8259-8eb3-4446-fc8e-bfcfc3f8cbe7"
      },
      "outputs": [
        {
          "name": "stdout",
          "output_type": "stream",
          "text": [
            "d.)  Merge two data frames row-wise and use two columns viz. names and dates as multi-row indexes. Generate descriptive statistics for this hierarchical data frame\n"
          ]
        },
        {
          "data": {
            "text/html": [
              "<div>\n",
              "<style scoped>\n",
              "    .dataframe tbody tr th:only-of-type {\n",
              "        vertical-align: middle;\n",
              "    }\n",
              "\n",
              "    .dataframe tbody tr th {\n",
              "        vertical-align: top;\n",
              "    }\n",
              "\n",
              "    .dataframe thead th {\n",
              "        text-align: right;\n",
              "    }\n",
              "</style>\n",
              "<table border=\"1\" class=\"dataframe\">\n",
              "  <thead>\n",
              "    <tr style=\"text-align: right;\">\n",
              "      <th></th>\n",
              "      <th>Duration</th>\n",
              "      <th>Duration</th>\n",
              "    </tr>\n",
              "  </thead>\n",
              "  <tbody>\n",
              "    <tr>\n",
              "      <th>count</th>\n",
              "      <td>9.000000</td>\n",
              "      <td>9.000000</td>\n",
              "    </tr>\n",
              "    <tr>\n",
              "      <th>mean</th>\n",
              "      <td>45.555556</td>\n",
              "      <td>47.777778</td>\n",
              "    </tr>\n",
              "    <tr>\n",
              "      <th>std</th>\n",
              "      <td>12.360331</td>\n",
              "      <td>13.944334</td>\n",
              "    </tr>\n",
              "    <tr>\n",
              "      <th>min</th>\n",
              "      <td>30.000000</td>\n",
              "      <td>30.000000</td>\n",
              "    </tr>\n",
              "    <tr>\n",
              "      <th>25%</th>\n",
              "      <td>30.000000</td>\n",
              "      <td>30.000000</td>\n",
              "    </tr>\n",
              "    <tr>\n",
              "      <th>50%</th>\n",
              "      <td>50.000000</td>\n",
              "      <td>50.000000</td>\n",
              "    </tr>\n",
              "    <tr>\n",
              "      <th>75%</th>\n",
              "      <td>50.000000</td>\n",
              "      <td>60.000000</td>\n",
              "    </tr>\n",
              "    <tr>\n",
              "      <th>max</th>\n",
              "      <td>60.000000</td>\n",
              "      <td>60.000000</td>\n",
              "    </tr>\n",
              "  </tbody>\n",
              "</table>\n",
              "</div>"
            ],
            "text/plain": [
              "       Duration    Duration\n",
              "count   9.000000   9.000000\n",
              "mean   45.555556  47.777778\n",
              "std    12.360331  13.944334\n",
              "min    30.000000  30.000000\n",
              "25%    30.000000  30.000000\n",
              "50%    50.000000  50.000000\n",
              "75%    50.000000  60.000000\n",
              "max    60.000000  60.000000"
            ]
          },
          "execution_count": 48,
          "metadata": {},
          "output_type": "execute_result"
        }
      ],
      "source": [
        "print(\"d.)  Merge two data frames row-wise and use two columns viz. names and dates as multi-row indexes. Generate descriptive statistics for this hierarchical data frame\")\n",
        "\n",
        "new_df = merge_R.set_index(['Name','Date'])\n",
        "new_df.describe()"
      ]
    },
    {
      "cell_type": "code",
      "execution_count": null,
      "metadata": {
        "id": "MpIIFmDcokvF",
        "outputId": "b4b12966-1642-43f2-edb4-a39a0258154a"
      },
      "outputs": [
        {
          "data": {
            "text/html": [
              "<div>\n",
              "<style scoped>\n",
              "    .dataframe tbody tr th:only-of-type {\n",
              "        vertical-align: middle;\n",
              "    }\n",
              "\n",
              "    .dataframe tbody tr th {\n",
              "        vertical-align: top;\n",
              "    }\n",
              "\n",
              "    .dataframe thead th {\n",
              "        text-align: right;\n",
              "    }\n",
              "</style>\n",
              "<table border=\"1\" class=\"dataframe\">\n",
              "  <thead>\n",
              "    <tr style=\"text-align: right;\">\n",
              "      <th></th>\n",
              "      <th></th>\n",
              "      <th></th>\n",
              "      <th>Sales</th>\n",
              "    </tr>\n",
              "    <tr>\n",
              "      <th>Year</th>\n",
              "      <th>Quarter</th>\n",
              "      <th>Month</th>\n",
              "      <th></th>\n",
              "    </tr>\n",
              "  </thead>\n",
              "  <tbody>\n",
              "    <tr>\n",
              "      <th rowspan=\"3\" valign=\"top\">2022</th>\n",
              "      <th>1</th>\n",
              "      <th>January</th>\n",
              "      <td>100</td>\n",
              "    </tr>\n",
              "    <tr>\n",
              "      <th>2</th>\n",
              "      <th>April</th>\n",
              "      <td>150</td>\n",
              "    </tr>\n",
              "    <tr>\n",
              "      <th>3</th>\n",
              "      <th>July</th>\n",
              "      <td>200</td>\n",
              "    </tr>\n",
              "    <tr>\n",
              "      <th rowspan=\"2\" valign=\"top\">2023</th>\n",
              "      <th>1</th>\n",
              "      <th>January</th>\n",
              "      <td>120</td>\n",
              "    </tr>\n",
              "    <tr>\n",
              "      <th>2</th>\n",
              "      <th>April</th>\n",
              "      <td>180</td>\n",
              "    </tr>\n",
              "  </tbody>\n",
              "</table>\n",
              "</div>"
            ],
            "text/plain": [
              "                      Sales\n",
              "Year Quarter Month         \n",
              "2022 1       January    100\n",
              "     2       April      150\n",
              "     3       July       200\n",
              "2023 1       January    120\n",
              "     2       April      180"
            ]
          },
          "execution_count": 49,
          "metadata": {},
          "output_type": "execute_result"
        }
      ],
      "source": [
        "import pandas as pd\n",
        "\n",
        "data = {\n",
        "    'Year': [2022, 2022, 2022, 2023, 2023],\n",
        "    'Quarter': [1, 2, 3, 1, 2],\n",
        "    'Month': ['January', 'April', 'July', 'January', 'April'],\n",
        "    'Sales': [100, 150, 200, 120, 180]\n",
        "}\n",
        "df = pd.DataFrame(data)\n",
        "# print(df)\n",
        "\n",
        "\n",
        "# Create a multi-row index using 'Year', 'Quarter', and 'Month'\n",
        "df.set_index(['Year', 'Quarter', 'Month'], inplace=True)\n",
        "df"
      ]
    }
  ],
  "metadata": {
    "kernelspec": {
      "display_name": ".venv",
      "language": "python",
      "name": "python3"
    },
    "language_info": {
      "codemirror_mode": {
        "name": "ipython",
        "version": 3
      },
      "file_extension": ".py",
      "mimetype": "text/x-python",
      "name": "python",
      "nbconvert_exporter": "python",
      "pygments_lexer": "ipython3",
      "version": "3.10.12"
    },
    "colab": {
      "provenance": [],
      "include_colab_link": true
    }
  },
  "nbformat": 4,
  "nbformat_minor": 0
}