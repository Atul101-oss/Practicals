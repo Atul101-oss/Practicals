{
 "cells": [
  {
   "cell_type": "code",
   "execution_count": 20,
   "metadata": {},
   "outputs": [
    {
     "name": "stdout",
     "output_type": "stream",
     "text": [
      "\n",
      "7. Consider the following data frame containing a family name, gender of the family member and her/his monthly\n",
      "income in each record.\n",
      "FamilyName Gender MonthlyIncome_(Rs.)\n",
      "Shah Male 44000.00\n",
      "Vats Male 65000.00\n",
      "Vats Female 43150.00\n",
      "Kumar Female 66500.00\n",
      "Vats Female 255000.00\n",
      "Kumar Male 103000.00\n",
      "Shah Male 55000.00\n",
      "Shah Female 112400.00\n",
      "Kumar Female 81030.00\n",
      "Vats Male 71900.00\n",
      "Write a program in Python using Pandas to perform the following:\n",
      "      \n",
      "a. Calculate and display familywise gross monthly income.\n",
      "b. Display the highest and lowest monthly income for each family name\n",
      "c. Calculate and display monthly income of all members earning income less than Rs. 80000.00.\n",
      "d. Display total number of females along with their average monthly income\n",
      "e. Delete rows with Monthly income less than the average income of all members\n",
      "\n"
     ]
    }
   ],
   "source": [
    "print('''\n",
    "7. Consider the following data frame containing a family name, gender of the family member and her/his monthly\n",
    "income in each record.\n",
    "FamilyName Gender MonthlyIncome_(Rs.)\n",
    "Shah Male 44000.00\n",
    "Vats Male 65000.00\n",
    "Vats Female 43150.00\n",
    "Kumar Female 66500.00\n",
    "Vats Female 255000.00\n",
    "Kumar Male 103000.00\n",
    "Shah Male 55000.00\n",
    "Shah Female 112400.00\n",
    "Kumar Female 81030.00\n",
    "Vats Male 71900.00\n",
    "Write a program in Python using Pandas to perform the following:\n",
    "      \n",
    "a. Calculate and display familywise gross monthly income.\n",
    "b. Display the highest and lowest monthly income for each family name\n",
    "c. Calculate and display monthly income of all members earning income less than Rs. 80000.00.\n",
    "d. Display total number of females along with their average monthly income\n",
    "e. Delete rows with Monthly income less than the average income of all members\n",
    "''')"
   ]
  },
  {
   "cell_type": "code",
   "execution_count": 21,
   "metadata": {},
   "outputs": [
    {
     "data": {
      "text/html": [
       "<div>\n",
       "<style scoped>\n",
       "    .dataframe tbody tr th:only-of-type {\n",
       "        vertical-align: middle;\n",
       "    }\n",
       "\n",
       "    .dataframe tbody tr th {\n",
       "        vertical-align: top;\n",
       "    }\n",
       "\n",
       "    .dataframe thead th {\n",
       "        text-align: right;\n",
       "    }\n",
       "</style>\n",
       "<table border=\"1\" class=\"dataframe\">\n",
       "  <thead>\n",
       "    <tr style=\"text-align: right;\">\n",
       "      <th></th>\n",
       "      <th>FamilyName</th>\n",
       "      <th>Gender</th>\n",
       "      <th>MonthlyIncome_(Rs.)</th>\n",
       "    </tr>\n",
       "  </thead>\n",
       "  <tbody>\n",
       "    <tr>\n",
       "      <th>0</th>\n",
       "      <td>Shah</td>\n",
       "      <td>Male</td>\n",
       "      <td>44000.0</td>\n",
       "    </tr>\n",
       "    <tr>\n",
       "      <th>1</th>\n",
       "      <td>Vats</td>\n",
       "      <td>Male</td>\n",
       "      <td>65000.0</td>\n",
       "    </tr>\n",
       "    <tr>\n",
       "      <th>2</th>\n",
       "      <td>Vats</td>\n",
       "      <td>Female</td>\n",
       "      <td>43150.0</td>\n",
       "    </tr>\n",
       "    <tr>\n",
       "      <th>3</th>\n",
       "      <td>Kumar</td>\n",
       "      <td>Female</td>\n",
       "      <td>66500.0</td>\n",
       "    </tr>\n",
       "    <tr>\n",
       "      <th>4</th>\n",
       "      <td>Vats</td>\n",
       "      <td>Female</td>\n",
       "      <td>255000.0</td>\n",
       "    </tr>\n",
       "    <tr>\n",
       "      <th>5</th>\n",
       "      <td>Kumar</td>\n",
       "      <td>Male</td>\n",
       "      <td>103000.0</td>\n",
       "    </tr>\n",
       "    <tr>\n",
       "      <th>6</th>\n",
       "      <td>Shah</td>\n",
       "      <td>Male</td>\n",
       "      <td>55000.0</td>\n",
       "    </tr>\n",
       "    <tr>\n",
       "      <th>7</th>\n",
       "      <td>Shah</td>\n",
       "      <td>Female</td>\n",
       "      <td>112400.0</td>\n",
       "    </tr>\n",
       "    <tr>\n",
       "      <th>8</th>\n",
       "      <td>Kumar</td>\n",
       "      <td>Female</td>\n",
       "      <td>81030.0</td>\n",
       "    </tr>\n",
       "    <tr>\n",
       "      <th>9</th>\n",
       "      <td>Vats</td>\n",
       "      <td>Male</td>\n",
       "      <td>71900.0</td>\n",
       "    </tr>\n",
       "  </tbody>\n",
       "</table>\n",
       "</div>"
      ],
      "text/plain": [
       "  FamilyName  Gender  MonthlyIncome_(Rs.)\n",
       "0       Shah    Male              44000.0\n",
       "1       Vats    Male              65000.0\n",
       "2       Vats  Female              43150.0\n",
       "3      Kumar  Female              66500.0\n",
       "4       Vats  Female             255000.0\n",
       "5      Kumar    Male             103000.0\n",
       "6       Shah    Male              55000.0\n",
       "7       Shah  Female             112400.0\n",
       "8      Kumar  Female              81030.0\n",
       "9       Vats    Male              71900.0"
      ]
     },
     "execution_count": 21,
     "metadata": {},
     "output_type": "execute_result"
    }
   ],
   "source": [
    "import pandas as pd\n",
    "\n",
    "df = pd.read_csv(\"data_frame.csv\",delimiter=\" \")\n",
    "df"
   ]
  },
  {
   "cell_type": "code",
   "execution_count": 45,
   "metadata": {},
   "outputs": [
    {
     "name": "stdout",
     "output_type": "stream",
     "text": [
      "  FamilyName  Gender  MonthlyIncome_(Rs.)\n",
      "0       Shah    Male              44000.0\n",
      "1       Vats    Male              65000.0\n",
      "2       Vats  Female              43150.0\n",
      "3      Kumar  Female              66500.0\n",
      "4       Vats  Female             255000.0\n",
      "5      Kumar    Male             103000.0\n",
      "6       Shah    Male              55000.0\n",
      "7       Shah  Female             112400.0\n",
      "8      Kumar  Female              81030.0\n",
      "9       Vats    Male              71900.0\n"
     ]
    },
    {
     "data": {
      "text/plain": [
       "0     44000.0\n",
       "1     65000.0\n",
       "2     43150.0\n",
       "3     66500.0\n",
       "4    255000.0\n",
       "5    103000.0\n",
       "6     55000.0\n",
       "7    112400.0\n",
       "8     81030.0\n",
       "9     71900.0\n",
       "Name: MonthlyIncome_(Rs.), dtype: float64"
      ]
     },
     "execution_count": 45,
     "metadata": {},
     "output_type": "execute_result"
    }
   ],
   "source": [
    "#a. Calculate and display familywise gross monthly income.\n",
    "print(df)\n",
    "families = df.groupby(\"FamilyName\")\n",
    "# f=df(column=[\"FamilyName\",\"Gender\"])\n",
    "df[\"MonthlyIncome_(Rs.)\"]"
   ]
  },
  {
   "cell_type": "code",
   "execution_count": null,
   "metadata": {},
   "outputs": [],
   "source": []
  }
 ],
 "metadata": {
  "kernelspec": {
   "display_name": ".venv",
   "language": "python",
   "name": "python3"
  },
  "language_info": {
   "codemirror_mode": {
    "name": "ipython",
    "version": 3
   },
   "file_extension": ".py",
   "mimetype": "text/x-python",
   "name": "python",
   "nbconvert_exporter": "python",
   "pygments_lexer": "ipython3",
   "version": "3.10.12"
  }
 },
 "nbformat": 4,
 "nbformat_minor": 2
}
