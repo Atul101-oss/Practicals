{
 "cells": [
  {
   "cell_type": "code",
   "execution_count": 4,
   "metadata": {},
   "outputs": [
    {
     "name": "stdout",
     "output_type": "stream",
     "text": [
      "                                    Atul_Arya\n",
      "                                    CSC/22/11\n",
      " -------------------------------------------------------------------------------- \n",
      "Problem!\n",
      "WAP to compute the gradient and Hessian of the function => f(x) = 100(x_2 − x_1**2)**2 + (1 − x_1)**2\n",
      "\n"
     ]
    }
   ],
   "source": [
    "print(\" \"*35,\"Atul_Arya\\n\",\" \"*34,\"CSC/22/11\\n\",\"-\"*80,\n",
    "'''\n",
    "Problem!\n",
    "WAP to compute the gradient and Hessian of the function => f(x) = 100(x_2 − x_1**2)**2 + (1 − x_1)**2\n",
    "''')"
   ]
  },
  {
   "cell_type": "code",
   "execution_count": 8,
   "metadata": {},
   "outputs": [
    {
     "name": "stdout",
     "output_type": "stream",
     "text": [
      "Gradient:\n",
      "[-400*x1*(-x1**2 + x2) + 2*x1 - 2, -200*x1**2 + 200*x2]\n",
      "\n",
      "Hessian Matrix:\n",
      "[1200*x1**2 - 400*x2 + 2, -400*x1]\n",
      "[-400*x1, 200]\n"
     ]
    }
   ],
   "source": [
    "import sympy as sp\n",
    "\n",
    "# Define the symbolic variables\n",
    "x1, x2 = sp.symbols('x1 x2')\n",
    "\n",
    "# Define the function\n",
    "f = 100 * (x2 - x1**2)**2 + (1 - x1)**2\n",
    "\n",
    "# Compute the gradient\n",
    "gradient = [sp.diff(f, var) for var in (x1, x2)]\n",
    "\n",
    "# Compute the Hessian matrix\n",
    "hessian = [[sp.diff(gradient[i], var) for var in (x1, x2)] for i in (0, 1)]\n",
    "\n",
    "# Print the results\n",
    "print(\"Gradient:\")\n",
    "print(gradient)\n",
    "print()\n",
    "print(\"Hessian Matrix:\")\n",
    "for row in hessian:\n",
    "    print(row)"
   ]
  }
 ],
 "metadata": {
  "kernelspec": {
   "display_name": ".venv",
   "language": "python",
   "name": "python3"
  },
  "language_info": {
   "codemirror_mode": {
    "name": "ipython",
    "version": 3
   },
   "file_extension": ".py",
   "mimetype": "text/x-python",
   "name": "python",
   "nbconvert_exporter": "python",
   "pygments_lexer": "ipython3",
   "version": "3.10.12"
  }
 },
 "nbformat": 4,
 "nbformat_minor": 2
}
