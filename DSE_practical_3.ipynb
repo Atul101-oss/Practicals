{
 "cells": [
  {
   "cell_type": "code",
   "execution_count": null,
   "metadata": {},
   "outputs": [],
   "source": [
    "3. Create a data frame having at least 3 columns and 50 rows to store numeric data generated using a random\n",
    "function. Replace 10% of the values by null values whose index positions are generated using random function.\n",
    "Do the following:\n",
    "a. Identify and count missing values in a data frame.\n",
    "b. Drop the column having more than 5 null values.\n",
    "c. Identify the row label having maximum of the sum of all values in a row and drop that row.\n",
    "d. Sort the data frame on the basis of the first column.\n",
    "e. Remove all duplicates from the first column.\n",
    "f. Find the correlation between first and second column and covariance between second and third\n",
    "column.\n",
    "g. Discretize the second column and create 5 bins."
   ]
  },
  {
   "cell_type": "code",
   "execution_count": 33,
   "metadata": {},
   "outputs": [
    {
     "ename": "SyntaxError",
     "evalue": "invalid syntax. Maybe you meant '==' or ':=' instead of '='? (2583419102.py, line 5)",
     "output_type": "error",
     "traceback": [
      "\u001b[0;36m  Cell \u001b[0;32mIn[33], line 5\u001b[0;36m\u001b[0m\n\u001b[0;31m    count_to_replace = (.10*data.size,dtype=int)\u001b[0m\n\u001b[0m                                      ^\u001b[0m\n\u001b[0;31mSyntaxError\u001b[0m\u001b[0;31m:\u001b[0m invalid syntax. Maybe you meant '==' or ':=' instead of '='?\n"
     ]
    }
   ],
   "source": [
    "import numpy as np\n",
    "import pandas as pd \n",
    "\n",
    "data = np.random.rand(50,3)*100\n",
    "count_to_replace = .10*data.size\n",
    "print(count_to_replace)\n",
    "for i in count_to_replace:\n",
    "    data[2, 2] = np.nan"
   ]
  },
  {
   "cell_type": "code",
   "execution_count": null,
   "metadata": {},
   "outputs": [],
   "source": [
    "\n"
   ]
  }
 ],
 "metadata": {
  "kernelspec": {
   "display_name": ".venv",
   "language": "python",
   "name": "python3"
  },
  "language_info": {
   "codemirror_mode": {
    "name": "ipython",
    "version": 3
   },
   "file_extension": ".py",
   "mimetype": "text/x-python",
   "name": "python",
   "nbconvert_exporter": "python",
   "pygments_lexer": "ipython3",
   "version": "3.10.12"
  }
 },
 "nbformat": 4,
 "nbformat_minor": 2
}
