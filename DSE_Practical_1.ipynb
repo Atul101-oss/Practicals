{
  "cells": [
    {
      "cell_type": "markdown",
      "metadata": {
        "id": "view-in-github",
        "colab_type": "text"
      },
      "source": [
        "<a href=\"https://colab.research.google.com/github/Atul101-oss/Aryabhatta/blob/main/DSE_Practical_1.ipynb\" target=\"_parent\"><img src=\"https://colab.research.google.com/assets/colab-badge.svg\" alt=\"Open In Colab\"/></a>"
      ]
    },
    {
      "cell_type": "code",
      "execution_count": null,
      "metadata": {
        "colab": {
          "base_uri": "https://localhost:8080/"
        },
        "id": "1KM63ptzSzcg",
        "outputId": "a2c706f6-3d66-48ed-c896-027c4cbf7b03"
      },
      "outputs": [
        {
          "output_type": "stream",
          "name": "stdout",
          "text": [
            "\n",
            "------------------------------------------------------------Name : Atul---------------------------------------------------------\n",
            "\t\t\t\t\t\t\t\t\t\t\t\t\t\tRoll No.: CSC/22/11\n",
            "      \n",
            "Que:- Write programs in Python using NumPy library to do the following:\n",
            "\n",
            "\ta. Create a two dimensional array, ARR1 having random values from 0 to 1. Compute the mean, standard deviation,\n",
            "\t\tand variance of ARR1 along the second axis.\n",
            "\n",
            "\tb. Create a 2-dimensional array of size m x n integer elements, also print the shape,\n",
            "\t\ttype and data type of the array and then reshape it into an n x m array,\n",
            "\t\twhere n and m are user inputs given at the run time.\n",
            "\n",
            "\tc. Test whether the elements of a given 1D array are zero, non-zero and NaN.\n",
            "\t\tRecord the indices of these elements in three separate arrays.\n",
            "\n",
            "\td. Create three random arrays of the same size: Array1, Array2 and Array3.\n",
            "\t\tSubtract Array 2 from Array3 and store in Array4. Create another array Array5 having two times the values in Array1.\n",
            "\t\tFind Co-variance and Correlation of Array1 with Array4 and Array5 respectively.\n",
            "\n",
            "\te. Create two random arrays of the same size 10: Array1, and Array2.\n",
            "\t\tFind the sum of the first half of both the arrays and product of the second half of both the arrays.\n",
            "\n",
            "\tf. Create an array with random values. Determine the size of the memory occupied by the array.\n",
            "\n",
            "\tg. Create a 2-dimensional array of size m x n having integer elements in the range (10,100).\n",
            "\t\tWrite statements to swap any two rows, reverse a specified column and store updated array in another variable\n",
            "--------------------------------------------------------------------------------------------------------------------------------\n",
            "\n"
          ]
        }
      ],
      "source": [
        "print('''\n",
        "------------------------------------------------------------Name : Atul---------------------------------------------------------\n",
        "\t\t\t\t\t\t\t\t\t\t\t\t\t\t\t\t\t\t\t\t\t\t\t\t\t\t\t\tRoll No.: CSC/22/11\n",
        "\n",
        "Que:- Write programs in Python using NumPy library to do the following:\n",
        "\n",
        "\ta. Create a two dimensional array, ARR1 having random values from 0 to 1. Compute the mean, standard deviation,\n",
        "\t\tand variance of ARR1 along the second axis.\n",
        "\n",
        "\tb. Create a 2-dimensional array of size m x n integer elements, also print the shape,\n",
        "\t\ttype and data type of the array and then reshape it into an n x m array,\n",
        "\t\twhere n and m are user inputs given at the run time.\n",
        "\n",
        "\tc. Test whether the elements of a given 1D array are zero, non-zero and NaN.\n",
        "\t\tRecord the indices of these elements in three separate arrays.\n",
        "\n",
        "\td. Create three random arrays of the same size: Array1, Array2 and Array3.\n",
        "\t\tSubtract Array 2 from Array3 and store in Array4. Create another array Array5 having two times the values in Array1.\n",
        "\t\tFind Co-variance and Correlation of Array1 with Array4 and Array5 respectively.\n",
        "\n",
        "\te. Create two random arrays of the same size 10: Array1, and Array2.\n",
        "\t\tFind the sum of the first half of both the arrays and product of the second half of both the arrays.\n",
        "\n",
        "\tf. Create an array with random values. Determine the size of the memory occupied by the array.\n",
        "\n",
        "\tg. Create a 2-dimensional array of size m x n having integer elements in the range (10,100).\n",
        "\t\tWrite statements to swap any two rows, reverse a specified column and store updated array in another variable\n",
        "--------------------------------------------------------------------------------------------------------------------------------\n",
        "''')"
      ]
    },
    {
      "cell_type": "code",
      "execution_count": null,
      "metadata": {
        "id": "tQz4BTDVSzcw"
      },
      "outputs": [],
      "source": [
        "import numpy as np\n"
      ]
    },
    {
      "cell_type": "code",
      "source": [
        "#Create a two dimensional array, ARR1 having random values from 0 to 1. Compute the mean, standard deviation,and variance of ARR1 along the second axis\n",
        "\n",
        "ARR1 = np.random.rand(4,5)\n",
        "\n",
        "Mean = np.mean(ARR1)\n",
        "STD = np.std(ARR1)\n",
        "Var = np.var(ARR1)\n",
        "print(f\"{ARR1}\\n\\nMean = {Mean}\\nSTD = {STD}\\nVarience = {Var}\")"
      ],
      "metadata": {
        "colab": {
          "base_uri": "https://localhost:8080/"
        },
        "id": "Q4Opnb6nTUkS",
        "outputId": "7f97c7e3-12fe-4aa5-9f5e-7c57386dd6c5"
      },
      "execution_count": null,
      "outputs": [
        {
          "output_type": "stream",
          "name": "stdout",
          "text": [
            "[[0.6297375  0.11165099 0.75988232 0.91585086 0.24879637]\n",
            " [0.11431885 0.88832619 0.0156646  0.21623191 0.89141813]\n",
            " [0.23084661 0.35205997 0.23841293 0.16385306 0.2004409 ]\n",
            " [0.81769731 0.33572923 0.97699241 0.26937541 0.63618699]]\n",
            "\n",
            "Mean = 0.4506736268945052\n",
            "STD = 0.3148873012352259\n",
            "Varience = 0.09915401247920388\n"
          ]
        }
      ]
    },
    {
      "cell_type": "code",
      "source": [
        "#Create a 2-dimensional array of size m x n integer elements, also print the shape,\n",
        "#\t\ttype and data type of the array and then reshape it into an n x m array,\n",
        "#\t\twhere n and m are user inputs given at the run time.\n",
        "\n",
        "m = int(input(\"Enter rows : \"))\n",
        "n = int(input(\"Enter columns : \"))\n",
        "\n",
        "arr = np.random.randint(0,100, size=(m,n))\n",
        "print(arr,\"\\n\")\n",
        "print(\"shape : \",arr.shape)\n",
        "print(\"array type : \", arr.dtype)\n",
        "arr.reshape(n,m)\n",
        "print(\"shape after reshape : \",arr.shape)"
      ],
      "metadata": {
        "colab": {
          "base_uri": "https://localhost:8080/"
        },
        "id": "n_1s6EEk01yU",
        "outputId": "ab320e43-a40e-43f7-b028-ccba3713634a"
      },
      "execution_count": null,
      "outputs": [
        {
          "output_type": "stream",
          "name": "stdout",
          "text": [
            "Enter rows : 5\n",
            "Enter columns : 7\n",
            "shape :  (5, 7)\n",
            "array type :  int64\n",
            "shape after reshape :  [[35  5 10 84  1]\n",
            " [72 56 91 32 51]\n",
            " [73 54 55  9 11]\n",
            " [77 15 84 98 56]\n",
            " [93 12  1 32 89]\n",
            " [70 43  6 41 48]\n",
            " [67 45 54 25 44]]\n"
          ]
        }
      ]
    },
    {
      "cell_type": "code",
      "source": [
        "#   Test whether the elements of a given 1D array are zero, non-zero and NaN.\n",
        "#\t\tRecord the indices of these elements in three separate arrays.\n",
        "\n",
        "arr1d = np.array([1,0,3,5,np.nan,3,0,3,np.nan,7])\n",
        "print(f\"Example array !\\n{arr1d}\\n\")\n",
        "\n",
        "print(\"is any NaN value : \",np.isnan(arr1d).all())\n",
        "print(\"is there any 0 in arr1d : \",(arr1d == 0).all())\n",
        "print(\"is there any integer except 0 in arr1d : \",(arr1d != 0).all())\n",
        "\n",
        "NaN_arr = [i for i in range(len(arr1d)) if np.isnan(arr1d)[i]]\n",
        "zero_arr = [i for i in range(len(arr1d)) if (arr1d == 0)[i]]\n",
        "any_int_arr = [i for i in range(len(arr1d)) if (arr1d !=0)[i]]\n",
        "\n",
        "print(f\"\\nNaN_arr = {NaN_arr}\\nzero_arr = {zero_arr}\\nany_int_arr = {any_int_arr}\")\n"
      ],
      "metadata": {
        "id": "wzY5xlYNHqU2",
        "colab": {
          "base_uri": "https://localhost:8080/"
        },
        "outputId": "dfede913-ac85-44ff-ec57-5af99d51cfda"
      },
      "execution_count": null,
      "outputs": [
        {
          "output_type": "stream",
          "name": "stdout",
          "text": [
            "Example array !\n",
            "[ 1.  0.  3.  5. nan  3.  0.  3. nan  7.]\n",
            "\n",
            "is any NaN value :  False\n",
            "is there any 0 in arr1d :  False\n",
            "is there any integer except 0 in arr1d :  False\n",
            "\n",
            "NaN_arr = [4, 8]\n",
            "zero_arr = [1, 6]\n",
            "any_int_arr = [0, 2, 3, 4, 5, 7, 8, 9]\n"
          ]
        }
      ]
    },
    {
      "cell_type": "code",
      "source": [
        "#   Create three random arrays of the same size: Array1, Array2 and Array3.\n",
        "#\t\tSubtract Array 2 from Array3 and store in Array4. Create another array Array5 having two times the values in Array1.\n",
        "#\t\tFind Co-variance and Correlation of Array1 with Array4 and Array5 respectively.\n",
        "\n",
        "\n",
        "array1 = np.random.randint(10, size=(8))\n",
        "array2 = np.random.randint(10, size=(8))\n",
        "array3 = np.random.randint(10, size=(8))\n",
        "\n",
        "array4 = np.subtract(array3,array2)\n",
        "array5 = 2*array1\n",
        "\n",
        "print(f\"Given ! \\narray1 = {array1} \\narray2 = {array2} \\narray3 = {array3}\")\n",
        "print(f\"\\nAfter Mainipulation ! \\narray4 = {array4} \\narray5 = {array5}\")\n",
        "\n",
        "print(f\"\\nCo-Varience of array1 with array4 \\n{np.cov(array1,array4)}\")\n",
        "print(f\"\\nCo-Relation of array1 with array5 \\n{np.corrcoef(array1,array5)}\")"
      ],
      "metadata": {
        "colab": {
          "base_uri": "https://localhost:8080/"
        },
        "id": "JZiCG00Ru5Io",
        "outputId": "57af2d2a-6dd3-49e7-f2ba-01f33f4f4f54"
      },
      "execution_count": null,
      "outputs": [
        {
          "output_type": "stream",
          "name": "stdout",
          "text": [
            "Given ! \n",
            "array1 = [2 3 3 5 8 6 4 7] \n",
            "array2 = [8 3 9 4 1 8 7 2] \n",
            "array3 = [1 6 8 2 7 8 3 8]\n",
            "\n",
            "After Mainipulation ! \n",
            "array4 = [-7  3 -1 -2  6  0 -4  6] \n",
            "array5 = [ 4  6  6 10 16 12  8 14]\n",
            "\n",
            "Co-Varience of array1 with array4 \n",
            "[[ 4.5         7.32142857]\n",
            " [ 7.32142857 21.55357143]]\n",
            "\n",
            "Co-Relation of array1 with array5 \n",
            "[[1. 1.]\n",
            " [1. 1.]]\n"
          ]
        }
      ]
    },
    {
      "cell_type": "code",
      "source": [
        "#   Create two random arrays of the same size 10: Array1, and Array2.\n",
        "#   Find the sum of the first half of both the arrays and product of the second half of both the arrays.\n",
        "\n",
        "Array1 = np.random.randint(100, size=(10))\n",
        "Array2 = np.random.randint(100, size=(10))\n",
        "\n",
        "sum1 = np.sum(Array1[: 5])\n",
        "sum2 = np.sum(Array2[: 5])\n",
        "\n",
        "product1 = np.prod(Array1[5 :])\n",
        "product2 = np.prod(Array2[5 :])\n",
        "\n",
        "print(f\"Given ! \\nArray1 = {Array1} \\nArray2 = {Array2}\")\n",
        "print(f\"\\nSum ! \\nArray1 = {sum1} \\nArray2 = {sum2}\")\n",
        "print(f\"\\nProduct ! \\nArray1 = {product1} \\nArray2 = {product2}\")"
      ],
      "metadata": {
        "colab": {
          "base_uri": "https://localhost:8080/"
        },
        "id": "STStlnyo7xSx",
        "outputId": "1c9df6b2-1599-4a3e-94db-8b09d6a80186"
      },
      "execution_count": null,
      "outputs": [
        {
          "output_type": "stream",
          "name": "stdout",
          "text": [
            "Given ! \n",
            "Array1 = [28 77 89 83 16 36 16 89 52 41] \n",
            "Array2 = [37 23 67 82  8 12 99 37 59 64]\n",
            "\n",
            "Sum ! \n",
            "Array1 = 293 \n",
            "Array2 = 217\n",
            "\n",
            "Product ! \n",
            "Array1 = 109294848 \n",
            "Array2 = 165977856\n"
          ]
        }
      ]
    },
    {
      "cell_type": "code",
      "source": [
        "#   Create an array with random values. Determine the size of the memory occupied by the array.\n",
        "\n",
        "rand_array = np.random.rand(5)\n",
        "memory = rand_array.size*rand_array.itemsize\n",
        "\n",
        "print(\"Memory occupied by rand_array =>\",memory,\"bytes\")"
      ],
      "metadata": {
        "colab": {
          "base_uri": "https://localhost:8080/"
        },
        "id": "iRJ6yb3ACVPm",
        "outputId": "9900fd20-fa8a-4d56-a6d5-524c360a9f0f"
      },
      "execution_count": null,
      "outputs": [
        {
          "output_type": "stream",
          "name": "stdout",
          "text": [
            "Memory occupied by rand_array => 40 bytes\n"
          ]
        }
      ]
    },
    {
      "cell_type": "code",
      "source": [
        "#   Create a 2-dimensional array of size m x n having integer elements in the range (10,100).\n",
        "#\t\tWrite statements to swap any two rows, reverse a specified column and store updated array in another variable\n",
        "\n",
        "array2d = np.random.randint(10,100, size=(5,9))\n",
        "print(f\"Before Mainipulation! \\n{array2d}\")\n",
        "\n",
        "i = np.random.randint(5)\n",
        "j = np.random.randint(5)\n",
        "array2d[i], array2d[j] = array2d[j], array2d[i]\n",
        "\n",
        "array2d[:, i] = array2d[::-1, i]\n",
        "\n",
        "print(f\"\\nAfter Mainipulation! (i = {i}, j = {j}) \\n{array2d}\")\n",
        "\n",
        "\n"
      ],
      "metadata": {
        "colab": {
          "base_uri": "https://localhost:8080/"
        },
        "id": "fPz_feIFEQMh",
        "outputId": "326f648a-6130-47c6-95de-f08d63d15772"
      },
      "execution_count": null,
      "outputs": [
        {
          "output_type": "stream",
          "name": "stdout",
          "text": [
            "Before Mainipulation! \n",
            "[[71 57 76 19 51 32 67 20 99]\n",
            " [47 56 14 11 65 73 23 69 37]\n",
            " [17 77 30 25 21 64 82 63 34]\n",
            " [82 75 16 50 60 18 20 97 96]\n",
            " [84 49 98 63 65 90 88 81 83]]\n",
            "\n",
            "After Mainipulation! (i = 1, j = 2) \n",
            "[[71 49 76 19 51 32 67 20 99]\n",
            " [17 75 30 25 21 64 82 63 34]\n",
            " [17 77 30 25 21 64 82 63 34]\n",
            " [82 77 16 50 60 18 20 97 96]\n",
            " [84 57 98 63 65 90 88 81 83]]\n"
          ]
        }
      ]
    }
  ],
  "metadata": {
    "kernelspec": {
      "display_name": "Python 3",
      "language": "python",
      "name": "python3"
    },
    "language_info": {
      "name": "python",
      "version": "3.10.12"
    },
    "orig_nbformat": 4,
    "colab": {
      "provenance": [],
      "include_colab_link": true
    }
  },
  "nbformat": 4,
  "nbformat_minor": 0
}