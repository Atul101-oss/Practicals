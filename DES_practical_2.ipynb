{
  "cells": [
    {
      "cell_type": "code",
      "execution_count": 2,
      "metadata": {
        "id": "pdfdYvM9Xsxd"
      },
      "outputs": [],
      "source": [
        "import pandas as pd\n",
        "import numpy as np"
      ]
    },
    {
      "cell_type": "code",
      "execution_count": 3,
      "metadata": {
        "colab": {
          "base_uri": "https://localhost:8080/"
        },
        "id": "nP1wkM1DYLhv",
        "outputId": "f0e71d78-7aa4-4b89-892d-4bf0d7fee2e6"
      },
      "outputs": [
        {
          "name": "stdout",
          "output_type": "stream",
          "text": [
            "original series\n",
            "b    2\n",
            "d    6\n",
            "a    3\n",
            "c    1\n",
            "dtype: int64\n",
            "\n",
            "index sorted series\n",
            "a    3\n",
            "b    2\n",
            "c    1\n",
            "d    6\n",
            "dtype: int64\n",
            "\n",
            "value sorted series\n",
            "c    1\n",
            "b    2\n",
            "a    3\n",
            "d    6\n",
            "dtype: int64\n"
          ]
        }
      ],
      "source": [
        "Data = {'b':2,'d':6,'a':3,'c':1}\n",
        "series = pd.Series(Data)\n",
        "print(f\"original series\\n{series}\")\n",
        "print(f\"\\nindex sorted series\\n{series.sort_index()}\")\n",
        "print(f\"\\nvalue sorted series\\n{series.sort_values()}\")"
      ]
    },
    {
      "cell_type": "code",
      "execution_count": 17,
      "metadata": {
        "colab": {
          "base_uri": "https://localhost:8080/"
        },
        "id": "kEfVteNHcC4g",
        "outputId": "c4882455-e5c6-44da-c190-68818d74708c"
      },
      "outputs": [
        {
          "name": "stdout",
          "output_type": "stream",
          "text": [
            "enter elements : 12\n",
            "\n",
            "Minimum rank using fist-method : 1.0\n",
            "Maximum rank using fist-method : 12.0\n",
            "Minimum rank using max-method : 3.0\n",
            "Maximum rank using max-method : 12.0\n",
            "\n"
          ]
        }
      ],
      "source": [
        "N=int(input(\"enter elements_no. : \"))\n",
        "data = np.random.randint(1,11,size=(N))\n",
        "series = pd.Series(data)\n",
        "print(f'''\n",
        "Minimum rank using fist-method : {np.min(series.rank(method='first'))}\n",
        "Maximum rank using fist-method : {np.max(series.rank(method='first'))}\n",
        "Minimum rank using max-method : {np.min(series.rank(method='max'))}\n",
        "Maximum rank using max-method : {np.max(series.rank(method='max'))}\n",
        "''')"
      ]
    },
    {
      "cell_type": "code",
      "execution_count": 19,
      "metadata": {
        "colab": {
          "base_uri": "https://localhost:8080/"
        },
        "id": "eWiK1SMqgK-o",
        "outputId": "06db50f4-1abf-42a5-b736-acc3ca8448c3"
      },
      "outputs": [
        {
          "name": "stdout",
          "output_type": "stream",
          "text": [
            "max element index : 7 \n",
            "min element index : 1\n"
          ]
        }
      ],
      "source": [
        "min = series.argmin()\n",
        "max = series.argmax()\n",
        "print(f\"max element index : {max} \\nmin element index : {min}\")"
      ]
    }
  ],
  "metadata": {
    "colab": {
      "provenance": []
    },
    "kernelspec": {
      "display_name": "Python 3",
      "name": "python3"
    },
    "language_info": {
      "name": "python"
    }
  },
  "nbformat": 4,
  "nbformat_minor": 0
}
