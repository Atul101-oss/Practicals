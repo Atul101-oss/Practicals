{
 "cells": [
  {
   "cell_type": "code",
   "execution_count": 1,
   "metadata": {},
   "outputs": [
    {
     "name": "stdout",
     "output_type": "stream",
     "text": [
      "\n",
      "7. Consider the following data frame containing a family name, gender of the family member and her/his monthly\n",
      "income in each record.\n",
      "FamilyName Gender MonthlyIncome (Rs.)\n",
      "Shah Male 44000.00\n",
      "Vats Male 65000.00\n",
      "Vats Female 43150.00\n",
      "Kumar Female 66500.00\n",
      "Vats Female 255000.00\n",
      "Kumar Male 103000.00\n",
      "Shah Male 55000.00\n",
      "Shah Female 112400.00\n",
      "Kumar Female 81030.00\n",
      "Vats Male 71900.00\n",
      "Write a program in Python using Pandas to perform the following:\n",
      "a. Calculate and display familywise gross monthly income.\n",
      "\n",
      "b. Display the highest and lowest monthly income for each family name\n",
      "c. Calculate and display monthly income of all members earning income less than Rs. 80000.00.\n",
      "d. Display total number of females along with their average monthly income\n",
      "e. Delete rows with Monthly income less than the average income of all members\n",
      "\n",
      "Project : Students are required to work on a good dataset in consultation with their faculty and apply the concepts\n",
      "learned in the course. Each project must include the following:\n",
      "i. Download a dataset (Either web-scrap the data from various data sources like twitter, amazon, news sites or\n",
      "download a dataset from kaggle/UCI/data.gov.in etc.). Select a dataset which requires at least two steps of data\n",
      "cleaning and two steps of data pre-processing.\n",
      "ii. Make an objective of the data analysis for that dataset. Depending on the dataset, perform the data cleaning, data\n",
      "pre-processing steps.\n",
      "iii. The data cleaning steps may include handling of missing values, handling duplicate data, handling inconsistent\n",
      "data (e.g. height is given in feet for some objects and in inches in some other objects), removing redundant data\n",
      "(e.g. in some datasets, age and date of birth are given as two column while the analysis needs only the age),\n",
      "handling incomplete data (e.g. email address doesn’t have @ symbol).\n",
      "iv. The pre-processing steps may include transforming the data to some other format (e.g text comment converted to\n",
      "term vector, image files converted to various types of features), discretization and binning,\n",
      "standardization/normalization and outlier detection. Some string manipulations may also be required.\n",
      "v. Prepare at least eight analysis questions for exploration of the data and at least two questions for the\n",
      "visualization of the data.\n",
      "\n"
     ]
    }
   ],
   "source": [
    "print('''\n",
    "7. Consider the following data frame containing a family name, gender of the family member and her/his monthly\n",
    "income in each record.\n",
    "FamilyName Gender MonthlyIncome (Rs.)\n",
    "Shah Male 44000.00\n",
    "Vats Male 65000.00\n",
    "Vats Female 43150.00\n",
    "Kumar Female 66500.00\n",
    "Vats Female 255000.00\n",
    "Kumar Male 103000.00\n",
    "Shah Male 55000.00\n",
    "Shah Female 112400.00\n",
    "Kumar Female 81030.00\n",
    "Vats Male 71900.00\n",
    "Write a program in Python using Pandas to perform the following:\n",
    "a. Calculate and display familywise gross monthly income.\n",
    "\n",
    "b. Display the highest and lowest monthly income for each family name\n",
    "c. Calculate and display monthly income of all members earning income less than Rs. 80000.00.\n",
    "d. Display total number of females along with their average monthly income\n",
    "e. Delete rows with Monthly income less than the average income of all members\n",
    "\n",
    "Project : Students are required to work on a good dataset in consultation with their faculty and apply the concepts\n",
    "learned in the course. Each project must include the following:\n",
    "i. Download a dataset (Either web-scrap the data from various data sources like twitter, amazon, news sites or\n",
    "download a dataset from kaggle/UCI/data.gov.in etc.). Select a dataset which requires at least two steps of data\n",
    "cleaning and two steps of data pre-processing.\n",
    "ii. Make an objective of the data analysis for that dataset. Depending on the dataset, perform the data cleaning, data\n",
    "pre-processing steps.\n",
    "iii. The data cleaning steps may include handling of missing values, handling duplicate data, handling inconsistent\n",
    "data (e.g. height is given in feet for some objects and in inches in some other objects), removing redundant data\n",
    "(e.g. in some datasets, age and date of birth are given as two column while the analysis needs only the age),\n",
    "handling incomplete data (e.g. email address doesn’t have @ symbol).\n",
    "iv. The pre-processing steps may include transforming the data to some other format (e.g text comment converted to\n",
    "term vector, image files converted to various types of features), discretization and binning,\n",
    "standardization/normalization and outlier detection. Some string manipulations may also be required.\n",
    "v. Prepare at least eight analysis questions for exploration of the data and at least two questions for the\n",
    "visualization of the data.\n",
    "''')"
   ]
  }
 ],
 "metadata": {
  "kernelspec": {
   "display_name": ".venv",
   "language": "python",
   "name": "python3"
  },
  "language_info": {
   "codemirror_mode": {
    "name": "ipython",
    "version": 3
   },
   "file_extension": ".py",
   "mimetype": "text/x-python",
   "name": "python",
   "nbconvert_exporter": "python",
   "pygments_lexer": "ipython3",
   "version": "3.10.12"
  }
 },
 "nbformat": 4,
 "nbformat_minor": 2
}
